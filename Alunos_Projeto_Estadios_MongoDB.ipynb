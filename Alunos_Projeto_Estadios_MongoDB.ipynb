{
  "nbformat": 4,
  "nbformat_minor": 0,
  "metadata": {
    "colab": {
      "provenance": [],
      "authorship_tag": "ABX9TyPbryaAOU+AgkA69Uf4YwAN",
      "include_colab_link": true
    },
    "kernelspec": {
      "name": "python3",
      "display_name": "Python 3"
    },
    "language_info": {
      "name": "python"
    }
  },
  "cells": [
    {
      "cell_type": "markdown",
      "metadata": {
        "id": "view-in-github",
        "colab_type": "text"
      },
      "source": [
        "<a href=\"https://colab.research.google.com/github/ProfAndersonVanin/FATEC_Banco_de_Dados_NoSQL/blob/main/Alunos_Projeto_Estadios_MongoDB.ipynb\" target=\"_parent\"><img src=\"https://colab.research.google.com/assets/colab-badge.svg\" alt=\"Open In Colab\"/></a>"
      ]
    },
    {
      "cell_type": "markdown",
      "source": [
        "# Importação das Bibliotecas"
      ],
      "metadata": {
        "id": "qD6CQkeZPYI0"
      }
    },
    {
      "cell_type": "code",
      "source": [
        "import numpy as np\n",
        "import pandas as pd\n",
        "import json"
      ],
      "metadata": {
        "id": "95ROpDM6Pc7j"
      },
      "execution_count": null,
      "outputs": []
    },
    {
      "cell_type": "code",
      "execution_count": null,
      "metadata": {
        "id": "_yh4LxAOPKfo"
      },
      "outputs": [],
      "source": [
        "# Baixando o data set em csv\n",
        "dataset = \"https://raw.githubusercontent.com/seuusuariogithub/repositorio/main/material%20de%20apoio/base%20de%20dados/arquivo.csv\""
      ]
    },
    {
      "cell_type": "code",
      "source": [
        "# Convertendo um arquivo csv em um Data Frame Pandas\n",
        "estadios_df = pd.read_csv(dataset)"
      ],
      "metadata": {
        "id": "VGAgwWgPPv8u"
      },
      "execution_count": null,
      "outputs": []
    },
    {
      "cell_type": "code",
      "source": [
        "# Visualizando os 5 primeiros registros do DataFrame\n",
        "estadios_df.head()"
      ],
      "metadata": {
        "id": "hUiJzw_oP1HM"
      },
      "execution_count": null,
      "outputs": []
    },
    {
      "cell_type": "code",
      "source": [
        "dicionario = estadios_df.to_dict('records')"
      ],
      "metadata": {
        "id": "YB4B8UMnApJe"
      },
      "execution_count": null,
      "outputs": []
    },
    {
      "cell_type": "code",
      "source": [
        "dicionario"
      ],
      "metadata": {
        "id": "E1dOUPEWA3rR"
      },
      "execution_count": null,
      "outputs": []
    },
    {
      "cell_type": "markdown",
      "source": [
        "Agora que temos nosso dicionário pronto, precisamos ter o ambiente MongoDB Atlas preparado para receber este dicionário que será uma nova colection em uma base de dados."
      ],
      "metadata": {
        "id": "ZcaZ_IbcBGl5"
      }
    },
    {
      "cell_type": "markdown",
      "source": [
        "# Instalando as bibliotecas necessárias para o MongoDB"
      ],
      "metadata": {
        "id": "W1dnYALLBdyH"
      }
    },
    {
      "cell_type": "code",
      "source": [
        "!python -m pip install pymongo\n",
        "from pymongo import MongoClient"
      ],
      "metadata": {
        "id": "iFF8yBMmBjRe"
      },
      "execution_count": null,
      "outputs": []
    },
    {
      "cell_type": "markdown",
      "source": [
        "## Conectando ao MongoAtlas"
      ],
      "metadata": {
        "id": "3O0eWnwGCPzh"
      }
    },
    {
      "cell_type": "code",
      "source": [
        "# estabelecendo uma variável que será o cliente de conexão ao Server Mongo\n",
        "cliente = MongoClient(\"mongodb+srv://<user>:<password>@cluster0.xxxxx.mongodb.net/?retryWrites=true&w=majority\")"
      ],
      "metadata": {
        "id": "a7uFYJYBCR02"
      },
      "execution_count": null,
      "outputs": []
    },
    {
      "cell_type": "code",
      "source": [
        "# Selecionando a base de dados\n",
        "db = cliente.get_database('futebol')"
      ],
      "metadata": {
        "id": "A3jPZZwREBze"
      },
      "execution_count": null,
      "outputs": []
    },
    {
      "cell_type": "code",
      "source": [
        "# Insere os documentos na nova base de dados\n",
        "db.estadios.insert_many(dicionario)"
      ],
      "metadata": {
        "id": "N89agNeOEarG"
      },
      "execution_count": null,
      "outputs": []
    },
    {
      "cell_type": "markdown",
      "source": [
        "## Importando a biblioteca Folium que serve para visualização de mapas"
      ],
      "metadata": {
        "id": "P32ag1a8ExC4"
      }
    },
    {
      "cell_type": "code",
      "source": [
        "import folium"
      ],
      "metadata": {
        "id": "OT9Cjq6mE3Fs"
      },
      "execution_count": null,
      "outputs": []
    },
    {
      "cell_type": "code",
      "source": [
        "# recuperando uma collection em uma variavel\n",
        "estadios = db.estadios"
      ],
      "metadata": {
        "id": "nVrM1jTbFARf"
      },
      "execution_count": null,
      "outputs": []
    },
    {
      "cell_type": "code",
      "source": [
        "# Exibindo a quantidade de documentos em uma collection e exibindo o primeiro documento\n",
        "num_documentos = estadios.count_documents({'_id' : {'$exists' : 1}})\n",
        "print ( 'Número de documentos no Banco de Dados = ' + str(num_documentos) )\n",
        "print(\"Mostando o primeiro documento\")\n",
        "list ( estadios.find().limit(1) ) "
      ],
      "metadata": {
        "id": "xFsbseaUFVMm"
      },
      "execution_count": null,
      "outputs": []
    },
    {
      "cell_type": "code",
      "source": [
        "# Estabelecendo um ponto central do mapa (Centro do Brasil)\n",
        "center_lat = -14.24007\n",
        "center_lon = -53.18050"
      ],
      "metadata": {
        "id": "GA6BMgUyGMF-"
      },
      "execution_count": null,
      "outputs": []
    },
    {
      "cell_type": "code",
      "source": [
        "consulta = list(estadios.find())"
      ],
      "metadata": {
        "id": "iL9zFXO6IIu-"
      },
      "execution_count": null,
      "outputs": []
    },
    {
      "cell_type": "code",
      "source": [
        "consulta"
      ],
      "metadata": {
        "id": "_xP6lG5EZIS5"
      },
      "execution_count": null,
      "outputs": []
    },
    {
      "cell_type": "code",
      "source": [
        "df_convertido = pd.DataFrame(consulta)"
      ],
      "metadata": {
        "id": "_CiZ-e-oIYRO"
      },
      "execution_count": null,
      "outputs": []
    },
    {
      "cell_type": "code",
      "source": [
        "# Imprime a primeira linha do DataFrame\n",
        "df_convertido.iloc[0]"
      ],
      "metadata": {
        "id": "CkczS9C9IpJf"
      },
      "execution_count": null,
      "outputs": []
    },
    {
      "cell_type": "code",
      "source": [
        "locationmap = folium.Map(location=[ center_lat , center_lon ], zoom_start=5, width=800, height=600 )\n",
        "longitud  = len(df_convertido)"
      ],
      "metadata": {
        "id": "kBRS4dhbGgNe"
      },
      "execution_count": null,
      "outputs": []
    },
    {
      "cell_type": "code",
      "source": [
        "for i in range ( longitud ):\n",
        "    lng = float(df_convertido.iloc[i]['longitude'])\n",
        "    lat = float(df_convertido.iloc[i]['latitude'])\n",
        "    description = 'Estádio: ' + str(df_convertido.iloc[i]['nome'])+ '<br> Capacidade: ' + str(df_convertido.iloc[i]['capacidade'])\n",
        "    folium.Marker( [ lat , lng ],\n",
        "                 popup= description,\n",
        "                 icon=folium.Icon(color='red')).add_to(locationmap)"
      ],
      "metadata": {
        "id": "iXAtqs1eKF-G"
      },
      "execution_count": null,
      "outputs": []
    },
    {
      "cell_type": "code",
      "source": [
        "locationmap"
      ],
      "metadata": {
        "id": "C8Bk79LDJR3P"
      },
      "execution_count": null,
      "outputs": []
    },
    {
      "cell_type": "markdown",
      "source": [
        "https://colab.research.google.com/github/Giffy/MongoDB_PyMongo_Tutorial/blob/master/1_1_First_steps_with_MongoDB_PyMongo.ipynb#scrollTo=fpS_a7o_FCVj\n"
      ],
      "metadata": {
        "id": "BsVObTNVLH2-"
      }
    },
    {
      "cell_type": "code",
      "source": [
        "from pandas._config import reset_option\n",
        "#@title PesquisaEstadio\n",
        "\n",
        "#@markdown Pesquise detalhes de um estádio\n",
        "\n",
        "Nome_estadio = \"Arena MRV\" #@param [\"Maracanã\",\"Mané Garrincha\",\"Morumbi\",\"Arena Castelão\",\"Mineirão\",\"Arruda\",\"Arena do Grêmio\",\"Mangueirão\",\"Beira-Rio\",\"Neo Química Arena\",\"Arena Fonte Nova\",\"Parque do Sabiá\",\"Arena Pernambuco\",\"Arena MRV\",\"Prudentão\",\"Engenhão\",\"Albertão\",\"Morenão\",\"Arena Pantanal\",\"Arena da Amazônia\"]\n",
        "\n",
        "nome_estadio = {'nome' : Nome_estadio}\n",
        "resultado_busca = list(estadios.find(nome_estadio))\n",
        "print('Dados do Estádio: ',resultado_busca[0]['nome'])\n",
        "print('Capacidade do estádio selecionado: ',resultado_busca[0]['capacidade'], ' pessoas')\n",
        "print('Posição Geográfica')\n",
        "print('Latitude: ',resultado_busca[0]['latitude'])\n",
        "print('Longitude: ',resultado_busca[0]['longitude'])\n",
        "   \n",
        "lng = float(resultado_busca[0]['longitude'])\n",
        "lat = float(resultado_busca[0]['latitude'])\n",
        "description = 'AQUI'\n",
        "locationmap2 = folium.Map(location=[ center_lat , center_lon ], zoom_start=4, width=800, height=600 )\n",
        "folium.Marker( [ lat , lng ],popup= description,icon=folium.Icon(color='red')).add_to(locationmap2)\n",
        "locationmap2"
      ],
      "metadata": {
        "id": "8hV7Ln36LKwD",
        "cellView": "form"
      },
      "execution_count": null,
      "outputs": []
    },
    {
      "cell_type": "code",
      "source": [
        "# nome_estadio = {'nome' : Nome_estadio}"
      ],
      "metadata": {
        "id": "RuKlgeKNb50D"
      },
      "execution_count": null,
      "outputs": []
    },
    {
      "cell_type": "code",
      "source": [
        "# print(nome_estadio)"
      ],
      "metadata": {
        "id": "GR5wkDWbcVMJ"
      },
      "execution_count": null,
      "outputs": []
    },
    {
      "cell_type": "code",
      "source": [
        "# resultado_busca = list(estadios.find(nome_estadio))\n",
        "# print(resultado_busca)"
      ],
      "metadata": {
        "id": "cg_Sjergr7Tj"
      },
      "execution_count": null,
      "outputs": []
    },
    {
      "cell_type": "code",
      "source": [
        "# print('Dados do Estádio: ',resultado_busca[0]['nome'])\n",
        "# print('Capacidade do estádio selecionado: ',resultado_busca[0]['capacidade'], ' pessoas')\n",
        "# print('Posição Geográfica')\n",
        "# print('Latitude: ',resultado_busca[0]['latitude'])\n",
        "# print('Longitude: ',resultado_busca[0]['longitude'])\n"
      ],
      "metadata": {
        "id": "O_XBaAKRuCrS"
      },
      "execution_count": null,
      "outputs": []
    }
  ]
}