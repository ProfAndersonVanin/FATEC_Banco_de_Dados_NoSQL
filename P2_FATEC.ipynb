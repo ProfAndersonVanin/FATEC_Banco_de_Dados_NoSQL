{
  "nbformat": 4,
  "nbformat_minor": 0,
  "metadata": {
    "colab": {
      "provenance": [],
      "authorship_tag": "ABX9TyN6Deb7s6Yvg0OrDphOG28e",
      "include_colab_link": true
    },
    "kernelspec": {
      "name": "python3",
      "display_name": "Python 3"
    },
    "language_info": {
      "name": "python"
    }
  },
  "cells": [
    {
      "cell_type": "markdown",
      "metadata": {
        "id": "view-in-github",
        "colab_type": "text"
      },
      "source": [
        "<a href=\"https://colab.research.google.com/github/ProfAndersonVanin/FATEC_Banco_de_Dados_NoSQL/blob/main/P2_FATEC.ipynb\" target=\"_parent\"><img src=\"https://colab.research.google.com/assets/colab-badge.svg\" alt=\"Open In Colab\"/></a>"
      ]
    },
    {
      "cell_type": "code",
      "execution_count": null,
      "metadata": {
        "colab": {
          "base_uri": "https://localhost:8080/"
        },
        "id": "R38x-EwF7JNF",
        "outputId": "49dd9e1c-1312-4aee-dcdb-4d4ec2c20a9f"
      },
      "outputs": [
        {
          "output_type": "stream",
          "name": "stdout",
          "text": [
            "Looking in indexes: https://pypi.org/simple, https://us-python.pkg.dev/colab-wheels/public/simple/\n",
            "Collecting pymongo\n",
            "  Downloading pymongo-4.3.3-cp310-cp310-manylinux_2_17_x86_64.manylinux2014_x86_64.whl (492 kB)\n",
            "\u001b[2K     \u001b[90m━━━━━━━━━━━━━━━━━━━━━━━━━━━━━━━━━━━━━━\u001b[0m \u001b[32m492.9/492.9 kB\u001b[0m \u001b[31m10.4 MB/s\u001b[0m eta \u001b[36m0:00:00\u001b[0m\n",
            "\u001b[?25hCollecting dnspython<3.0.0,>=1.16.0 (from pymongo)\n",
            "  Downloading dnspython-2.3.0-py3-none-any.whl (283 kB)\n",
            "\u001b[2K     \u001b[90m━━━━━━━━━━━━━━━━━━━━━━━━━━━━━━━━━━━━━━\u001b[0m \u001b[32m283.7/283.7 kB\u001b[0m \u001b[31m33.7 MB/s\u001b[0m eta \u001b[36m0:00:00\u001b[0m\n",
            "\u001b[?25hInstalling collected packages: dnspython, pymongo\n",
            "Successfully installed dnspython-2.3.0 pymongo-4.3.3\n"
          ]
        }
      ],
      "source": [
        "!pip install pymongo"
      ]
    },
    {
      "cell_type": "code",
      "source": [
        "from pymongo import MongoClient\n",
        "\n",
        "# Conectar ao banco de dados MongoDB\n",
        "def conectar():\n",
        "    username = 'XXXXXX'\n",
        "    password = 'xxxxxxxxxx'\n",
        "    cluster_url = 'cluster0.xxxxxxx.mongodb.net'\n",
        "\n",
        "    # Substitua 'test' pelo nome do seu banco de dados\n",
        "    client = MongoClient(f'mongodb+srv://{username}:{password}@{cluster_url}/test?retryWrites=true&w=majority')\n",
        "    db = client.clientes\n",
        "    return db\n",
        "\n",
        "# Função para criar um novo contato\n",
        "def criar_contato(db, nome, email, idade):\n",
        "    contato = {\n",
        "        'nome': nome,\n",
        "        'email': email,\n",
        "        'idade': idade\n",
        "    }\n",
        "    db.registros.insert_one(contato)\n",
        "\n",
        "# Função para listar todos os contatos\n",
        "def listar_contatos(db):\n",
        "    contatos = db.registros.find()\n",
        "    for contato in contatos:\n",
        "        print(contato)\n",
        "\n",
        "# Função para atualizar um contato existente\n",
        "def atualizar_contato(db, nome, novo_email):\n",
        "    db.registros.update_one({'nome': nome}, {'$set': {'email': novo_email}})\n",
        "\n",
        "# Função para excluir um contato\n",
        "def excluir_contato(db, nome):\n",
        "    db.registros.delete_one({'nome': nome})\n",
        "\n",
        "# Função principal\n",
        "def main():\n",
        "    db = conectar()\n",
        "\n",
        "    while True:\n",
        "        print('--- MENU ---')\n",
        "        print('1. Adicionar contato')\n",
        "        print('2. Listar contatos')\n",
        "        print('3. Atualizar contato')\n",
        "        print('4. Excluir contato')\n",
        "        print('5. Sair')\n",
        "\n",
        "        opcao = input('Digite a opção desejada: ')\n",
        "\n",
        "        if opcao == '1':\n",
        "            nome = input('Digite o nome do contato: ')\n",
        "            email = input('Digite o email do contato: ')\n",
        "            idade = input('Digite a idade do contato: ')\n",
        "            criar_contato(db, nome, email, idade)\n",
        "            print('Contato adicionado com sucesso!')\n",
        "\n",
        "        elif opcao == '2':\n",
        "            listar_contatos(db)\n",
        "\n",
        "        elif opcao == '3':\n",
        "            nome = input('Digite o nome do contato a ser atualizado: ')\n",
        "            novo_email = input('Digite o novo email: ')\n",
        "            atualizar_contato(db, nome, novo_email)\n",
        "            print('Contato atualizado com sucesso!')\n",
        "\n",
        "        elif opcao == '4':\n",
        "            nome = input('Digite o nome do contato a ser excluído: ')\n",
        "            excluir_contato(db, nome)\n",
        "            print('Contato excluído com sucesso!')\n",
        "\n",
        "        elif opcao == '5':\n",
        "            print('Saindo...')\n",
        "            break\n",
        "\n",
        "        else:\n",
        "            print('Opção inválida!')\n",
        "\n",
        "if __name__ == '__main__':\n",
        "    main()\n"
      ],
      "metadata": {
        "colab": {
          "base_uri": "https://localhost:8080/"
        },
        "id": "uEEjTMp49wge",
        "outputId": "ece0132c-7161-46ef-ab36-c72497d18421"
      },
      "execution_count": null,
      "outputs": [
        {
          "output_type": "stream",
          "name": "stdout",
          "text": [
            "--- MENU ---\n",
            "1. Adicionar contato\n",
            "2. Listar contatos\n",
            "3. Atualizar contato\n",
            "4. Excluir contato\n",
            "5. Sair\n",
            "Digite a opção desejada: 2\n",
            "{'_id': ObjectId('646e3ea57a64ba545ae153db'), 'nome': 'Anderson', 'email': 'anderson.vanin@email.com', 'idade': 48}\n",
            "{'_id': ObjectId('646e4d0f604451ee8300e4d0'), 'nome': 'Teste da Silva', 'email': 'silva@email.com', 'idade': 34}\n",
            "--- MENU ---\n",
            "1. Adicionar contato\n",
            "2. Listar contatos\n",
            "3. Atualizar contato\n",
            "4. Excluir contato\n",
            "5. Sair\n",
            "Digite a opção desejada: 1\n",
            "Digite o nome do contato: Cintia\n",
            "Digite o email do contato: cintia@email.com\n",
            "Digite a idade do contato: 41\n",
            "Contato adicionado com sucesso!\n",
            "--- MENU ---\n",
            "1. Adicionar contato\n",
            "2. Listar contatos\n",
            "3. Atualizar contato\n",
            "4. Excluir contato\n",
            "5. Sair\n",
            "Digite a opção desejada: 3\n",
            "Digite o nome do contato a ser atualizado: Anderson\n",
            "Digite o novo email: vanin@email.com\n",
            "Contato atualizado com sucesso!\n",
            "--- MENU ---\n",
            "1. Adicionar contato\n",
            "2. Listar contatos\n",
            "3. Atualizar contato\n",
            "4. Excluir contato\n",
            "5. Sair\n",
            "Digite a opção desejada: 5\n",
            "Saindo...\n"
          ]
        }
      ]
    }
  ]
}